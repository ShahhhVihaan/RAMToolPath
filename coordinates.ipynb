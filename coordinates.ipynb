{
 "cells": [
  {
   "cell_type": "code",
   "execution_count": 8,
   "metadata": {},
   "outputs": [],
   "source": [
    "# import statements\n",
    "import numpy as np\n",
    "from path import Planner"
   ]
  },
  {
   "cell_type": "code",
   "execution_count": 9,
   "metadata": {},
   "outputs": [],
   "source": [
    "maps = {} # dictionary of maps, a map is a dictionary of coordinates and their corresponding values - one map for each layer\n",
    "\n",
    "# instantiate map\n",
    "def instantiate_map():\n",
    "    map = {}\n",
    "    for i in np.arange(0, 379.4, 0.1):\n",
    "        for j in np.arange(0, 189.7, 0.1):\n",
    "            map[(round(i, 1), round(j, 1))] = None\n",
    "    return map"
   ]
  },
  {
   "cell_type": "code",
   "execution_count": null,
   "metadata": {},
   "outputs": [],
   "source": [
    "# linear interpolation\n",
    "# returns a list of points between two points\n",
    "\n",
    "def get_points(x1, x2, y1, y2, step_size = 0.1):\n",
    "    if x1 == x2:\n",
    "        y_points = np.round(np.append(np.arange(y1, y2, step_size, dtype='float64'), y2), 1)\n",
    "        x_points = np.round(np.full((np.size(y_points),), x1), 1)\n",
    "        x_points = np.round(np.full((np.size(y_points),), x1), 1)\n",
    "\n",
    "        assert np.size(x_points) == np.size(y_points)\n",
    "        return x_points, y_points\n",
    "    \n",
    "    x_points = np.round(np.append(np.arange(x1, x2, step_size, dtype='float64'), x2), 1)\n",
    "    y_points = np.zeros(np.size(x_points), dtype='float64')\n",
    "    \n",
    "    for i in range(np.size(x_points)):\n",
    "        y_points[i] = round(((y2-y1)/(x2-x1))*(x_points[i]-x1) + y1, 1)\n",
    "    \n",
    "    assert np.size(x_points) == np.size(y_points)\n",
    "    return x_points, y_points"
   ]
  },
  {
   "cell_type": "code",
   "execution_count": 11,
   "metadata": {},
   "outputs": [],
   "source": [
    "def update_maps():\n",
    "    path = Planner('sample_gcode/test_big_box.gcode')\n",
    "    x_start = y_start = None # start point of the path set to None\n",
    "    \n",
    "    for coord in path.generate():\n",
    "        x, y, z, command = coord\n",
    "        \n",
    "        # round coordinates to 1 decimal place\n",
    "        x = round(x, 1)\n",
    "        y = round(y, 1)\n",
    "        \n",
    "        # move coordinates to the left from (0, 0)\n",
    "        x = x - 5.2\n",
    "        y = y - 5.2\n",
    "        \n",
    "        if z not in maps:\n",
    "            # create a new map for this z value\n",
    "            maps[z] = instantiate_map()\n",
    "            x_start = y_start = None\n",
    "            \n",
    "        # for the first point in the path\n",
    "        if x_start is None and y_start is None:\n",
    "            x_start = x\n",
    "            y_start = y\n",
    "        \n",
    "        # linear interpolation of points between the start and end points\n",
    "        x_points, y_points = get_points(x_start, x, y_start, y)\n",
    "        \n",
    "        # update the start point\n",
    "        x_start = x\n",
    "        y_start = y\n",
    "        \n",
    "        # update the map for both arms\n",
    "        for x_point, y_point in zip(x_points, y_points):\n",
    "            x_point = round(x_point, 1)\n",
    "            y_point = round(y_point, 1)\n",
    "            x_point_2 = round(x_point + 189.7, 1)\n",
    "            maps[z][(x_point, y_point)] = (\"arm_1\", command)\n",
    "            maps[z][(x_point_2, y_point)] = (\"arm_2\", command)"
   ]
  },
  {
   "cell_type": "code",
   "execution_count": 12,
   "metadata": {},
   "outputs": [],
   "source": [
    "# clear all maps\n",
    "def clear_maps():\n",
    "    for map in maps:\n",
    "        for key in map:\n",
    "            map[key] = None"
   ]
  },
  {
   "cell_type": "code",
   "execution_count": 13,
   "metadata": {},
   "outputs": [],
   "source": [
    "# clear all maps and update them\n",
    "clear_maps()\n",
    "update_maps()"
   ]
  },
  {
   "cell_type": "code",
   "execution_count": 25,
   "metadata": {},
   "outputs": [
    {
     "name": "stdout",
     "output_type": "stream",
     "text": [
      "dictionary 0 saved successfully to file\n",
      "dictionary 1 saved successfully to file\n",
      "dictionary 2 saved successfully to file\n",
      "dictionary 3 saved successfully to file\n",
      "dictionary 4 saved successfully to file\n",
      "dictionary 5 saved successfully to file\n",
      "dictionary 6 saved successfully to file\n",
      "dictionary 7 saved successfully to file\n",
      "dictionary 8 saved successfully to file\n",
      "dictionary 9 saved successfully to file\n",
      "dictionary 10 saved successfully to file\n",
      "dictionary 11 saved successfully to file\n",
      "dictionary 12 saved successfully to file\n",
      "dictionary 13 saved successfully to file\n",
      "dictionary 14 saved successfully to file\n",
      "dictionary 15 saved successfully to file\n",
      "dictionary 16 saved successfully to file\n",
      "dictionary 17 saved successfully to file\n",
      "dictionary 18 saved successfully to file\n"
     ]
    }
   ],
   "source": [
    "# save maps to file\n",
    "import pickle\n",
    "\n",
    "count = 0\n",
    "for map in maps:\n",
    "    # write dictionary to pkl file\n",
    "    with open('maps/map_' + str(count) + '.pkl', 'wb') as fp:\n",
    "        pickle.dump(maps[map], fp)\n",
    "        print(f\"dictionary {count} saved successfully to file\")\n",
    "    count+=1"
   ]
  },
  {
   "cell_type": "code",
   "execution_count": 22,
   "metadata": {},
   "outputs": [
    {
     "name": "stdout",
     "output_type": "stream",
     "text": [
      "('arm_2', 'G1')\n",
      "('arm_1', 'G1')\n",
      "('arm_2', 'G1')\n",
      "('arm_1', 'G1')\n"
     ]
    }
   ],
   "source": [
    "print(maps[0.3][(379.3, 189.6)])\n",
    "print(maps[0.3][(132.1, 4.2)])\n",
    "\n",
    "print(maps[3.0][(379.3, 189.6)])\n",
    "print(maps[3.0][(132.1, 4.2)])"
   ]
  },
  {
   "cell_type": "code",
   "execution_count": null,
   "metadata": {},
   "outputs": [],
   "source": [
    "# extract maps from file\n",
    "import pickle\n",
    "\n",
    "maps = {}\n",
    "count = 0\n",
    "\n",
    "while True:\n",
    "    try:\n",
    "        # read dictionary from pkl file\n",
    "        with open('maps/map_' + str(count) + '.pkl', 'rb') as fp:\n",
    "            maps[count] = pickle.load(fp)\n",
    "            print(f\"dictionary {count} loaded successfully from file\")\n",
    "        count += 1\n",
    "    except FileNotFoundError:\n",
    "        break"
   ]
  }
 ],
 "metadata": {
  "kernelspec": {
   "display_name": "RAMToolPath",
   "language": "python",
   "name": "ramtoolpath"
  },
  "language_info": {
   "codemirror_mode": {
    "name": "ipython",
    "version": 3
   },
   "file_extension": ".py",
   "mimetype": "text/x-python",
   "name": "python",
   "nbconvert_exporter": "python",
   "pygments_lexer": "ipython3",
   "version": "3.8.0"
  },
  "orig_nbformat": 4
 },
 "nbformat": 4,
 "nbformat_minor": 2
}
